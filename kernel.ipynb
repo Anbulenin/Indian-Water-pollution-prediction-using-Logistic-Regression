{
  "cells": [
    {
      "metadata": {
        "_uuid": "8f2839f25d086af736a60e9eeb907d3b93b6e0e5",
        "_cell_guid": "b1076dfc-b9ad-4769-8c92-a6c4dae69d19",
        "trusted": true
      },
      "cell_type": "code",
      "source": "# This Python 3 environment comes with many helpful analytics libraries installed\n# It is defined by the kaggle/python docker image: https://github.com/kaggle/docker-python\n# For example, here's several helpful packages to load in \n\nimport numpy as np # linear algebra\nimport pandas as pd # data processing, CSV file I/O (e.g. pd.read_csv)\n\n# Input data files are available in the \"../input/\" directory.\n# For example, running this (by clicking run or pressing Shift+Enter) will list the files in the input directory\n\nimport os\nprint(os.listdir(\"../input\"))\n\n# Any results you write to the current directory are saved as output.",
      "execution_count": null,
      "outputs": []
    },
    {
      "metadata": {
        "_cell_guid": "79c7e3d0-c299-4dcb-8224-4455121ee9b0",
        "_uuid": "d629ff2d2480ee46fbb7e2d37f6b5fab8052498a",
        "trusted": true,
        "_kg_hide-input": true
      },
      "cell_type": "code",
      "source": "data=pd.read_csv('../input/water_dataX.csv',encoding=\"ISO-8859-1\")\ndata.fillna(0, inplace=True)\ndata.head()",
      "execution_count": null,
      "outputs": []
    },
    {
      "metadata": {
        "trusted": true,
        "_uuid": "f2fa8c8216c8a43293bac6a54ba1b268d7df72ec"
      },
      "cell_type": "code",
      "source": "data.dtypes",
      "execution_count": null,
      "outputs": []
    },
    {
      "metadata": {
        "trusted": true,
        "_uuid": "85fd6c55da7ba22c20a28000d90cb7d09c847e92"
      },
      "cell_type": "code",
      "source": "#conversions\ndata['Temp']=pd.to_numeric(data['Temp'],errors='coerce')\ndata['D.O. (mg/l)']=pd.to_numeric(data['D.O. (mg/l)'],errors='coerce')\ndata['PH']=pd.to_numeric(data['PH'],errors='coerce')\ndata['B.O.D. (mg/l)']=pd.to_numeric(data['B.O.D. (mg/l)'],errors='coerce')\ndata['CONDUCTIVITY (µmhos/cm)']=pd.to_numeric(data['CONDUCTIVITY (µmhos/cm)'],errors='coerce')\ndata['NITRATENAN N+ NITRITENANN (mg/l)']=pd.to_numeric(data['NITRATENAN N+ NITRITENANN (mg/l)'],errors='coerce')\ndata['TOTAL COLIFORM (MPN/100ml)Mean']=pd.to_numeric(data['TOTAL COLIFORM (MPN/100ml)Mean'],errors='coerce')\ndata.dtypes",
      "execution_count": null,
      "outputs": []
    },
    {
      "metadata": {
        "trusted": true,
        "_uuid": "c528533407224af3b7dcbc5d395260281aef2777"
      },
      "cell_type": "code",
      "source": "#initialization\nstart=2\nend=1779\nstation=data.iloc [start:end ,0]\nlocation=data.iloc [start:end ,1]\nstate=data.iloc [start:end ,2]\ndo= data.iloc [start:end ,4].astype(np.float64)\nvalue=0\nph = data.iloc[ start:end,5]  \nco = data.iloc [start:end ,6].astype(np.float64)   \n  \nyear=data.iloc[start:end,11]\ntc=data.iloc [2:end ,10].astype(np.float64)\n\n\nbod = data.iloc [start:end ,7].astype(np.float64)\nna= data.iloc [start:end ,8].astype(np.float64)\nna.dtype",
      "execution_count": null,
      "outputs": []
    },
    {
      "metadata": {
        "trusted": true,
        "_uuid": "f6fea6a3aaa01927b6b51da1b8362aa9db158ecc"
      },
      "cell_type": "code",
      "source": "data.head()",
      "execution_count": null,
      "outputs": []
    },
    {
      "metadata": {
        "trusted": true,
        "_uuid": "e13694edb7e69821a3a1bc790644585aabd6f3cf"
      },
      "cell_type": "code",
      "source": "data=pd.concat([station,location,state,do,ph,co,bod,na,tc,year],axis=1)\ndata. columns = ['station','location','state','do','ph','co','bod','na','tc','year']",
      "execution_count": null,
      "outputs": []
    },
    {
      "metadata": {
        "trusted": true,
        "_uuid": "c2821fe55fdcf56135b5d6a20d5382fc9d006411"
      },
      "cell_type": "code",
      "source": "#calulation of Ph\ndata['npH']=data.ph.apply(lambda x: (100 if (8.5>=x>=7)  \n                                 else(80 if  (8.6>=x>=8.5) or (6.9>=x>=6.8) \n                                      else(60 if (8.8>=x>=8.6) or (6.8>=x>=6.7) \n                                          else(40 if (9>=x>=8.8) or (6.7>=x>=6.5)\n                                              else 0)))))\n",
      "execution_count": null,
      "outputs": []
    },
    {
      "metadata": {
        "trusted": true,
        "_uuid": "522c5937fb8199e5ba9600011856b7abe7c41dfd"
      },
      "cell_type": "code",
      "source": "#calculation of dissolved oxygen\ndata['ndo']=data.do.apply(lambda x:(100 if (x>=6)  \n                                 else(80 if  (6>=x>=5.1) \n                                      else(60 if (5>=x>=4.1)\n                                          else(40 if (4>=x>=3) \n                                              else 0)))))",
      "execution_count": null,
      "outputs": []
    },
    {
      "metadata": {
        "trusted": true,
        "_uuid": "0e443b323f7ea397bb3e63a8eb1b0f243c247c82"
      },
      "cell_type": "code",
      "source": "#calculation of total coliform\ndata['nco']=data.tc.apply(lambda x:(100 if (5>=x>=0)  \n                                 else(80 if  (50>=x>=5) \n                                      else(60 if (500>=x>=50)\n                                          else(40 if (10000>=x>=500) \n                                              else 0)))))",
      "execution_count": null,
      "outputs": []
    },
    {
      "metadata": {
        "trusted": true,
        "_uuid": "f421697d9e925a02e8d8c919546ccddc306d6619"
      },
      "cell_type": "code",
      "source": "#calc of B.D.O\ndata['nbdo']=data.bod.apply(lambda x:(100 if (3>=x>=0)  \n                                 else(80 if  (6>=x>=3) \n                                      else(60 if (80>=x>=6)\n                                          else(40 if (125>=x>=80) \n                                              else 0)))))",
      "execution_count": null,
      "outputs": []
    },
    {
      "metadata": {
        "trusted": true,
        "_uuid": "432790c8c67937138427c395c4706da173911e16"
      },
      "cell_type": "code",
      "source": "#calculation of electrical conductivity\ndata['nec']=data.co.apply(lambda x:(100 if (75>=x>=0)  \n                                 else(80 if  (150>=x>=75) \n                                      else(60 if (225>=x>=150)\n                                          else(40 if (300>=x>=225) \n                                              else 0)))))\n",
      "execution_count": null,
      "outputs": []
    },
    {
      "metadata": {
        "trusted": true,
        "_uuid": "96bb369fe0bfe6ed046e93f1c33855125b394ab4"
      },
      "cell_type": "code",
      "source": "#Calulation of nitrate\ndata['nna']=data.na.apply(lambda x:(100 if (20>=x>=0)  \n                                 else(80 if  (50>=x>=20) \n                                      else(60 if (100>=x>=50)\n                                          else(40 if (200>=x>=100) \n                                              else 0)))))\n\ndata.head()\ndata.dtypes",
      "execution_count": null,
      "outputs": []
    },
    {
      "metadata": {
        "trusted": true,
        "_uuid": "0c1462f89a3526c780053de8f891ac806efcb51d"
      },
      "cell_type": "code",
      "source": "\ndata['wph']=data.npH * 0.165\ndata['wdo']=data.ndo * 0.281\ndata['wbdo']=data.nbdo * 0.234\ndata['wec']=data.nec* 0.009\ndata['wna']=data.nna * 0.028\ndata['wco']=data.nco * 0.281\ndata['wqi']=data.wph+data.wdo+data.wbdo+data.wec+data.wna+data.wco \ndata",
      "execution_count": null,
      "outputs": []
    },
    {
      "metadata": {
        "trusted": true,
        "_uuid": "1d93ce1da4d8a054073820ae573e1735fdbef19d"
      },
      "cell_type": "code",
      "source": "#calculation overall wqi for each year\nag=data.groupby('year')['wqi'].mean()",
      "execution_count": null,
      "outputs": []
    },
    {
      "metadata": {
        "trusted": true,
        "_uuid": "3c6a6c48311870df8217720ca59c569e105c7606"
      },
      "cell_type": "code",
      "source": "ag.head()",
      "execution_count": null,
      "outputs": []
    },
    {
      "metadata": {
        "trusted": true,
        "_uuid": "cc19551971d8211b993ea3ab3fd2f22e5cff2b0d"
      },
      "cell_type": "code",
      "source": "data=ag.reset_index(level=0,inplace=False)\ndata",
      "execution_count": null,
      "outputs": []
    },
    {
      "metadata": {
        "trusted": true,
        "_uuid": "82ccdd01f19e5b85ccae5d818e2c18db2844de16"
      },
      "cell_type": "code",
      "source": "#visualizing the filttered data\n\nyear=data['year'].values\nAQI=data['wqi'].values\ndata['wqi']=pd.to_numeric(data['wqi'],errors='coerce')\ndata['year']=pd.to_numeric(data['year'],errors='coerce')\n\nimport matplotlib.pyplot as plt\nplt.rcParams['figure.figsize'] = (20.0, 10.0)\nfrom mpl_toolkits.mplot3d import Axes3D\nfig = plt.figure()\nax = Axes3D(fig)\nax.scatter(year,AQI, color='red')\nplt.show()\ndata",
      "execution_count": null,
      "outputs": []
    },
    {
      "metadata": {
        "trusted": true,
        "_uuid": "779ee6c0a1d70f25ddae00a9882be7ef4574380d"
      },
      "cell_type": "code",
      "source": "data = data[np.isfinite(data['wqi'])]\ndata.head()",
      "execution_count": null,
      "outputs": []
    },
    {
      "metadata": {
        "trusted": true,
        "_uuid": "84dafc968c50b1c050de74a71d73aa5f0e6c04b5"
      },
      "cell_type": "code",
      "source": "#scatter plot of data points\ncols =['year']\ny = data['wqi']\nx=data[cols]\n\nplt.scatter(x,y)\nplt.show()",
      "execution_count": null,
      "outputs": []
    },
    {
      "metadata": {
        "trusted": true,
        "_uuid": "6cc522e2e2dbc00770c03ee80c845b05e9a672af"
      },
      "cell_type": "code",
      "source": "import matplotlib.pyplot as plt\ndata=data.set_index('year')\ndata.plot(figsize=(15,6))\nplt.show()",
      "execution_count": null,
      "outputs": []
    },
    {
      "metadata": {
        "trusted": true,
        "_uuid": "7d4b980a7a6a2867b0f44e8b2355edeff3b98479"
      },
      "cell_type": "code",
      "source": "from sklearn import neighbors,datasets\ndata=data.reset_index(level=0,inplace=False)\ndata",
      "execution_count": null,
      "outputs": []
    },
    {
      "metadata": {
        "trusted": true,
        "_uuid": "4f56fb9c29458e057324bddba5353b8e824bfd8a"
      },
      "cell_type": "code",
      "source": "#using linear regression to predict\nfrom sklearn import linear_model\nfrom sklearn.cross_validation import train_test_split",
      "execution_count": null,
      "outputs": []
    },
    {
      "metadata": {
        "trusted": true,
        "_uuid": "742901bc94bd37fe23000af6a6011466e97874a1"
      },
      "cell_type": "code",
      "source": "cols =['year']",
      "execution_count": null,
      "outputs": []
    },
    {
      "metadata": {
        "trusted": true,
        "_uuid": "09501a049da5fa33e11e80069f8c65c651c5a0a5"
      },
      "cell_type": "code",
      "source": "y = data['wqi']\nx=data[cols]",
      "execution_count": null,
      "outputs": []
    },
    {
      "metadata": {
        "trusted": true,
        "_uuid": "8c3851759e9fd00b17bc37ed8f2683437e7fe23f"
      },
      "cell_type": "code",
      "source": "reg=linear_model.LinearRegression()\nx_train,x_test,y_train,y_test=train_test_split(x,y,test_size=0.2,random_state=4)",
      "execution_count": null,
      "outputs": []
    },
    {
      "metadata": {
        "trusted": true,
        "_uuid": "a6f684f7c09a95c8ec3a4482c19014882a132e09"
      },
      "cell_type": "code",
      "source": "reg.fit(x_train,y_train)",
      "execution_count": null,
      "outputs": []
    },
    {
      "metadata": {
        "trusted": true,
        "_uuid": "409ed4c7a7927a850900cc696eb6e69defca35ce"
      },
      "cell_type": "code",
      "source": "a=reg.predict(x_test)\na",
      "execution_count": null,
      "outputs": []
    },
    {
      "metadata": {
        "trusted": true,
        "_uuid": "3fd10b89a0f2a9f0cf007b18ca8fcdb2efec0abf"
      },
      "cell_type": "code",
      "source": "y_test",
      "execution_count": null,
      "outputs": []
    },
    {
      "metadata": {
        "trusted": true,
        "_uuid": "5b036e752c47885097cbae6e2c5f5c0a27400925"
      },
      "cell_type": "code",
      "source": "from sklearn.metrics import mean_squared_error\nprint('mse:%.2f'%mean_squared_error(y_test,a))",
      "execution_count": null,
      "outputs": []
    },
    {
      "metadata": {
        "trusted": true,
        "_uuid": "4cd1d3bcf67c3b93ee5c7f686c2f20eb6177077b"
      },
      "cell_type": "code",
      "source": "dt = pd.DataFrame({'Actual': y_test, 'Predicted': a}) ",
      "execution_count": null,
      "outputs": []
    },
    {
      "metadata": {
        "trusted": true,
        "_uuid": "607dc99b713a8bca3f17310cdd2636c0a2e5a561"
      },
      "cell_type": "code",
      "source": "#using gradient descent to optimize it further\nx = (x - x.mean()) / x.std()\nx = np.c_[np.ones(x.shape[0]), x]\nx",
      "execution_count": null,
      "outputs": []
    },
    {
      "metadata": {
        "trusted": true,
        "_uuid": "1396f1dc86d121828a0258c0e4bd207f077a4a04"
      },
      "cell_type": "code",
      "source": "alpha = 0.1 #Step size\niterations = 3000 #No. of iterations\nm = y.size #No. of data points\nnp.random.seed(4) #Setting the seed\ntheta = np.random.rand(2) #Picking some random values to start with\n\ndef gradient_descent(x, y, theta, iterations, alpha):\n    past_costs = []\n    past_thetas = [theta]\n    for i in range(iterations):\n        prediction = np.dot(x, theta)\n        error = prediction - y\n        cost = 1/(2*m) * np.dot(error.T, error)\n        past_costs.append(cost)\n        theta = theta - (alpha * (1/m) * np.dot(x.T, error))\n        past_thetas.append(theta)\n        \n    return past_thetas, past_costs\n\npast_thetas, past_costs = gradient_descent(x, y, theta, iterations, alpha)\ntheta = past_thetas[-1]\n\n#Print the results...\nprint(\"Gradient Descent: {:.2f}, {:.2f}\".format(theta[0], theta[1]))",
      "execution_count": null,
      "outputs": []
    },
    {
      "metadata": {
        "trusted": true,
        "_uuid": "99ac723a4e07fae2ba319ba9ebafb36012ead100"
      },
      "cell_type": "code",
      "source": "plt.title('Cost Function J')\nplt.xlabel('No. of iterations')\nplt.ylabel('Cost')\nplt.plot(past_costs)\nplt.show()",
      "execution_count": null,
      "outputs": []
    },
    {
      "metadata": {
        "trusted": true,
        "_uuid": "f7223e19520ef52186975058d30267ad8176cdc4"
      },
      "cell_type": "code",
      "source": "#prediction of january(2013-2015) across india\nimport numpy as np\nnewB=[74.76, 2.13]\n\ndef rmse(y,y_pred):\n    rmse= np.sqrt(sum(y-y_pred))\n    return rmse\n   \n\ny_pred=x.dot(newB)\n\ndt = pd.DataFrame({'Actual': y, 'Predicted': y_pred})  \ndt=pd.concat([data, dt], axis=1)\ndt",
      "execution_count": null,
      "outputs": []
    },
    {
      "metadata": {
        "trusted": true,
        "_uuid": "c8c54e1dc1d1ff3d76ac1c22ea0acfaacc181ba1"
      },
      "cell_type": "code",
      "source": "#testing the accuracy of the model\n\nfrom sklearn import metrics\nprint(np.sqrt(metrics.mean_squared_error(y,y_pred)))\n   ",
      "execution_count": null,
      "outputs": []
    },
    {
      "metadata": {
        "trusted": true,
        "_uuid": "778efd068d3543a54f0f6b45c66a956e1a430468"
      },
      "cell_type": "code",
      "source": "#plotting the actual and predicted results\nx_axis=dt.year\ny_axis=dt.Actual\ny1_axis=dt.Predicted\nplt.scatter(x_axis,y_axis)\nplt.plot(x_axis,y1_axis,color='r')\nplt.title(\"linear regression\")\n\nplt.show()\n",
      "execution_count": null,
      "outputs": []
    },
    {
      "metadata": {
        "trusted": true,
        "_uuid": "691faaaeb8e5e5e65bb28da09ea41ead0d5f4af6"
      },
      "cell_type": "code",
      "source": "",
      "execution_count": null,
      "outputs": []
    }
  ],
  "metadata": {
    "kernelspec": {
      "display_name": "Python 3",
      "language": "python",
      "name": "python3"
    },
    "language_info": {
      "name": "python",
      "version": "3.6.6",
      "mimetype": "text/x-python",
      "codemirror_mode": {
        "name": "ipython",
        "version": 3
      },
      "pygments_lexer": "ipython3",
      "nbconvert_exporter": "python",
      "file_extension": ".py"
    }
  },
  "nbformat": 4,
  "nbformat_minor": 1
}